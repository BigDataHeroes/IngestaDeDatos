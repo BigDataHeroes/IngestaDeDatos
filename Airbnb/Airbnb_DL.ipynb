{
 "cells": [
  {
   "cell_type": "markdown",
   "metadata": {
    "colab_type": "text",
    "id": "wZF5evpV1rFG"
   },
   "source": [
    "# Predicción del precio de alquiler de una casa vacacional en Madrid"
   ]
  },
  {
   "cell_type": "markdown",
   "metadata": {
    "colab_type": "text",
    "id": "WDczfY381oLB"
   },
   "source": [
    "## Setup"
   ]
  },
  {
   "cell_type": "code",
   "execution_count": null,
   "metadata": {
    "colab": {},
    "colab_type": "code",
    "id": "7Tx8Dz_Bjw28"
   },
   "outputs": [],
   "source": [
    "def getInputPath():\n",
    "  return 'Inputs/'"
   ]
  },
  {
   "cell_type": "code",
   "execution_count": null,
   "metadata": {
    "colab": {},
    "colab_type": "code",
    "id": "Sa-v-hJz1JBa"
   },
   "outputs": [],
   "source": [
    "def getOutputPath():\n",
    "  return 'Outputs/'"
   ]
  },
  {
   "cell_type": "code",
   "execution_count": null,
   "metadata": {
    "colab": {
     "base_uri": "https://localhost:8080/",
     "height": 34
    },
    "colab_type": "code",
    "executionInfo": {
     "elapsed": 2008,
     "status": "ok",
     "timestamp": 1542355468315,
     "user": {
      "displayName": "Big Data Heroes",
      "photoUrl": "https://lh4.googleusercontent.com/-Oea-kCFGmOI/AAAAAAAAAAI/AAAAAAAAABA/2nzFsVh2IMA/s64/photo.jpg",
      "userId": "01285482604191505132"
     },
     "user_tz": -60
    },
    "id": "gO2SsbFqkFnR",
    "outputId": "fea115ca-9af5-4327-8d57-e7a0046a671a"
   },
   "outputs": [
    {
     "name": "stderr",
     "output_type": "stream",
     "text": [
      "Using TensorFlow backend.\n"
     ]
    }
   ],
   "source": [
    "import pandas as pd\n",
    "import numpy as np\n",
    "from sklearn.model_selection import train_test_split\n",
    "from sklearn.preprocessing import StandardScaler\n",
    "from keras.models import Sequential\n",
    "from keras.layers import Dense, Dropout\n",
    "from keras.callbacks import EarlyStopping, ReduceLROnPlateau\n",
    "\n",
    "import numpy\n",
    "# fix random seed for reproducibility\n",
    "numpy.random.seed(7)\n",
    "import matplotlib.pyplot as plt\n",
    "from matplotlib.colors import ListedColormap\n",
    "%matplotlib inline"
   ]
  },
  {
   "cell_type": "markdown",
   "metadata": {
    "colab_type": "text",
    "id": "i_yFdqcQ1jUd"
   },
   "source": [
    "## Preparación de los datos"
   ]
  },
  {
   "cell_type": "code",
   "execution_count": null,
   "metadata": {
    "colab": {
     "base_uri": "https://localhost:8080/",
     "height": 119
    },
    "colab_type": "code",
    "executionInfo": {
     "elapsed": 2237,
     "status": "ok",
     "timestamp": 1542355470581,
     "user": {
      "displayName": "Big Data Heroes",
      "photoUrl": "https://lh4.googleusercontent.com/-Oea-kCFGmOI/AAAAAAAAAAI/AAAAAAAAABA/2nzFsVh2IMA/s64/photo.jpg",
      "userId": "01285482604191505132"
     },
     "user_tz": -60
    },
    "id": "Oxlo_4rKnw-z",
    "outputId": "2b3a04fe-da72-45db-fd2d-a25ed1e19f00"
   },
   "outputs": [
    {
     "name": "stdout",
     "output_type": "stream",
     "text": [
      "Datos train:  (10104, 211)\n",
      "Datos validation:  (2527, 211)\n",
      "Datos test:   (5414, 211)\n",
      "Propocion train:74.229\n",
      "Propocion validation:73.206\n",
      "Propocion test: 74.547\n"
     ]
    }
   ],
   "source": [
    "datos_airbnb_consolidados = pd.read_csv(getOutputPath() + \"consolidados_ml.csv\")\n",
    "# Paso 1: Preparamos los datos\n",
    "features = datos_airbnb_consolidados.columns.drop(['price'])\n",
    "X = datos_airbnb_consolidados[features].values\n",
    "\n",
    "y = datos_airbnb_consolidados['price'].values\n",
    "\n",
    "X_train, X_test, y_train, y_test = train_test_split(X, y, test_size = 0.3, random_state=1)\n",
    "X_train, X_val, y_train, y_val = train_test_split(X_train, y_train, test_size = 0.2, random_state=1)\n",
    "\n",
    "\n",
    "print('Datos train: ', X_train.shape)\n",
    "print('Datos validation: ', X_val.shape)\n",
    "print('Datos test:  ', X_test.shape)\n",
    "print('Propocion train:%0.3f'%np.mean(y_train))\n",
    "print('Propocion validation:%0.3f'%np.mean(y_val))\n",
    "print('Propocion test: %0.3f'%np.mean(y_test))"
   ]
  },
  {
   "cell_type": "code",
   "execution_count": null,
   "metadata": {
    "colab": {},
    "colab_type": "code",
    "id": "oc4BPIuwo2K6"
   },
   "outputs": [],
   "source": [
    "\n",
    "# Paso 1.1: Preprocesar las variables\n",
    "scaler = StandardScaler().fit(X_train)\n",
    "Xs_train = scaler.transform(X_train)\n",
    "Xs_val = scaler.transform(X_val)\n",
    "Xs_test = scaler.transform(X_test)"
   ]
  },
  {
   "cell_type": "markdown",
   "metadata": {
    "colab_type": "text",
    "id": "aOujw-ip11i9"
   },
   "source": [
    "## Aproximación base"
   ]
  },
  {
   "cell_type": "code",
   "execution_count": null,
   "metadata": {
    "colab": {},
    "colab_type": "code",
    "id": "lQderIDHpE1S"
   },
   "outputs": [],
   "source": [
    "# Compile model\n",
    "model.compile(loss='mean_squared_error', optimizer='adam', metrics=['mse'])"
   ]
  },
  {
   "cell_type": "code",
   "execution_count": null,
   "metadata": {
    "colab": {},
    "colab_type": "code",
    "id": "mleIO4OYpE5U"
   },
   "outputs": [],
   "source": [
    "# create model\n",
    "model = Sequential()\n",
    "model.add(Dense(500, input_dim=211, kernel_initializer='random_normal'))\n",
    "#model.add(Dropout(0.1))\n",
    "model.add(Dense(500))\n",
    "#model.add(Dropout(0.1))\n",
    "model.add(Dense(500))\n",
    "\n",
    "#model.add(Dropout(0.1))\n",
    "model.add(Dense(500))\n",
    "\n",
    "#model.add(Dropout(0.1))\n",
    "model.add(Dense(500))\n",
    "\n",
    "model.add(Dense(1))"
   ]
  },
  {
   "cell_type": "code",
   "execution_count": null,
   "metadata": {
    "colab": {
     "base_uri": "https://localhost:8080/",
     "height": 487
    },
    "colab_type": "code",
    "executionInfo": {
     "elapsed": 3697,
     "status": "ok",
     "timestamp": 1542013951835,
     "user": {
      "displayName": "Big Data Heroes",
      "photoUrl": "https://lh4.googleusercontent.com/-Oea-kCFGmOI/AAAAAAAAAAI/AAAAAAAAABA/2nzFsVh2IMA/s64/photo.jpg",
      "userId": "01285482604191505132"
     },
     "user_tz": -60
    },
    "id": "yYFZCaD1pEzN",
    "outputId": "63ada0fb-1ef2-440c-fb59-a40b9b0cff58"
   },
   "outputs": [
    {
     "name": "stdout",
     "output_type": "stream",
     "text": [
      "Train on 10104 samples, validate on 2527 samples\n",
      "Epoch 1/500\n",
      "10104/10104 [==============================] - 0s 24us/step - loss: 23.6767 - mean_squared_error: 2143.3873 - val_loss: 23.4037 - val_mean_squared_error: 2215.9860\n",
      "Epoch 2/500\n",
      "10104/10104 [==============================] - 0s 24us/step - loss: 23.6865 - mean_squared_error: 2148.3372 - val_loss: 23.7451 - val_mean_squared_error: 2194.9516\n",
      "Epoch 3/500\n",
      "10104/10104 [==============================] - 0s 24us/step - loss: 23.7252 - mean_squared_error: 2154.3525 - val_loss: 23.4579 - val_mean_squared_error: 2124.8104\n",
      "Epoch 4/500\n",
      "10104/10104 [==============================] - 0s 23us/step - loss: 23.0676 - mean_squared_error: 2096.0912 - val_loss: 22.5763 - val_mean_squared_error: 2088.2213\n",
      "Epoch 5/500\n",
      "10104/10104 [==============================] - 0s 23us/step - loss: 22.6758 - mean_squared_error: 2069.7340 - val_loss: 22.5737 - val_mean_squared_error: 2181.2577\n",
      "Epoch 6/500\n",
      "10104/10104 [==============================] - 0s 23us/step - loss: 22.6742 - mean_squared_error: 2080.9800 - val_loss: 22.3809 - val_mean_squared_error: 2044.1323\n",
      "Epoch 7/500\n",
      "10104/10104 [==============================] - 0s 23us/step - loss: 22.5610 - mean_squared_error: 2054.9576 - val_loss: 22.4134 - val_mean_squared_error: 2111.5240\n",
      "Epoch 8/500\n",
      "10104/10104 [==============================] - 0s 24us/step - loss: 22.4915 - mean_squared_error: 2052.6734 - val_loss: 22.2189 - val_mean_squared_error: 2068.3170\n",
      "Epoch 9/500\n",
      "10104/10104 [==============================] - 0s 23us/step - loss: 22.5908 - mean_squared_error: 2063.4413 - val_loss: 22.2395 - val_mean_squared_error: 2110.5258\n",
      "Epoch 10/500\n",
      "10104/10104 [==============================] - 0s 24us/step - loss: 22.5730 - mean_squared_error: 2058.0268 - val_loss: 22.4617 - val_mean_squared_error: 2116.6216\n",
      "Epoch 11/500\n",
      "10104/10104 [==============================] - 0s 24us/step - loss: 22.3760 - mean_squared_error: 2036.5771 - val_loss: 22.2955 - val_mean_squared_error: 2128.1421\n",
      "Epoch 12/500\n",
      "10104/10104 [==============================] - 0s 23us/step - loss: 22.2630 - mean_squared_error: 2067.8026 - val_loss: 22.2775 - val_mean_squared_error: 2097.9906\n",
      "Epoch 13/500\n",
      "10104/10104 [==============================] - 0s 23us/step - loss: 22.2964 - mean_squared_error: 2045.9669 - val_loss: 22.2552 - val_mean_squared_error: 2097.5307\n"
     ]
    },
    {
     "data": {
      "text/plain": [
       "<keras.callbacks.History at 0x7f46ed4e9fd0>"
      ]
     },
     "execution_count": 95,
     "metadata": {
      "tags": []
     },
     "output_type": "execute_result"
    }
   ],
   "source": [
    "# Fit the model\n",
    "early_stopper = EarlyStopping(patience=5)\n",
    "reduce_lr = ReduceLROnPlateau(monitor='val_loss', factor=0.3,\n",
    "                              patience=2, min_lr=0.0001)\n",
    "model.fit(Xs_train, y_train, epochs=500, batch_size=500, validation_data=(Xs_val, y_val), callbacks=[ reduce_lr, early_stopper])"
   ]
  },
  {
   "cell_type": "code",
   "execution_count": null,
   "metadata": {
    "colab": {
     "base_uri": "https://localhost:8080/",
     "height": 84
    },
    "colab_type": "code",
    "executionInfo": {
     "elapsed": 1377,
     "status": "ok",
     "timestamp": 1542012080610,
     "user": {
      "displayName": "Big Data Heroes",
      "photoUrl": "https://lh4.googleusercontent.com/-Oea-kCFGmOI/AAAAAAAAAAI/AAAAAAAAABA/2nzFsVh2IMA/s64/photo.jpg",
      "userId": "01285482604191505132"
     },
     "user_tz": -60
    },
    "id": "_XpaJ0nzpEw8",
    "outputId": "3fa7380e-72d2-471d-eddd-5d9e1b59938d"
   },
   "outputs": [
    {
     "name": "stdout",
     "output_type": "stream",
     "text": [
      "5414/5414 [==============================] - 0s 44us/step\n",
      "\n",
      "mean_squared_error: 180298.89%\n"
     ]
    },
    {
     "data": {
      "text/plain": [
       "[1802.9888679721412, 1802.9888679721412]"
      ]
     },
     "execution_count": 43,
     "metadata": {
      "tags": []
     },
     "output_type": "execute_result"
    }
   ],
   "source": [
    "# evaluate the model\n",
    "scores = model.evaluate(Xs_test, y_test)\n",
    "print(\"\\n%s: %.2f%%\" % (model.metrics_names[1], scores[1]*100))\n",
    "scores"
   ]
  },
  {
   "cell_type": "markdown",
   "metadata": {
    "colab_type": "text",
    "id": "PEKcHD5f18OU"
   },
   "source": [
    "## Búqueda de hiperparámetros con un algoritmo genético"
   ]
  },
  {
   "cell_type": "code",
   "execution_count": null,
   "metadata": {
    "colab": {},
    "colab_type": "code",
    "id": "me7hAZRJvOAa"
   },
   "outputs": [],
   "source": [
    "import sys\n",
    "sys.path.insert(0, 'neural-network-genetic-algorithm/')\n",
    "\n",
    "\n",
    "import main as ge\n"
   ]
  },
  {
   "cell_type": "code",
   "execution_count": null,
   "metadata": {
    "colab": {},
    "colab_type": "code",
    "id": "7usw-VAYQlYV"
   },
   "outputs": [],
   "source": [
    "import logging\n",
    "from optimizer import Optimizer\n",
    "from tqdm import tqdm\n",
    "\n",
    "# Setup logging.\n",
    "logging.basicConfig(\n",
    "    format='%(asctime)s - %(levelname)s - %(message)s',\n",
    "    datefmt='%m/%d/%Y %I:%M:%S %p',\n",
    "    level=logging.DEBUG,\n",
    "    filename='log.txt')"
   ]
  },
  {
   "cell_type": "code",
   "execution_count": null,
   "metadata": {
    "colab": {
     "base_uri": "https://localhost:8080/",
     "height": 357
    },
    "colab_type": "code",
    "executionInfo": {
     "elapsed": 5384387,
     "status": "ok",
     "timestamp": 1542360870955,
     "user": {
      "displayName": "Big Data Heroes",
      "photoUrl": "https://lh4.googleusercontent.com/-Oea-kCFGmOI/AAAAAAAAAAI/AAAAAAAAABA/2nzFsVh2IMA/s64/photo.jpg",
      "userId": "01285482604191505132"
     },
     "user_tz": -60
    },
    "id": "JZqUYpGoxewF",
    "outputId": "c56c99c4-ea6d-41ae-c964-840928c1bb4a"
   },
   "outputs": [
    {
     "name": "stderr",
     "output_type": "stream",
     "text": [
      "100%|██████████| 20/20 [03:50<00:00,  9.14s/it]\n",
      "100%|██████████| 20/20 [01:56<00:00, 18.41s/it]\n",
      "100%|██████████| 20/20 [02:37<00:00, 16.61s/it]\n",
      "100%|██████████| 20/20 [02:12<00:00, 12.15s/it]\n",
      "100%|██████████| 20/20 [02:49<00:00, 15.45s/it]\n",
      "100%|██████████| 20/20 [02:31<00:00, 13.46s/it]\n",
      "100%|██████████| 20/20 [02:26<00:00, 11.88s/it]\n",
      "100%|██████████| 20/20 [03:09<00:00, 15.78s/it]\n",
      "100%|██████████| 20/20 [03:22<00:00, 20.71s/it]\n",
      "100%|██████████| 20/20 [04:02<00:00, 21.42s/it]\n",
      "100%|██████████| 20/20 [04:17<00:00, 22.39s/it]\n",
      "100%|██████████| 20/20 [04:50<00:00, 23.65s/it]\n",
      "100%|██████████| 20/20 [05:15<00:00, 28.47s/it]\n",
      "100%|██████████| 20/20 [05:38<00:00, 37.94s/it]\n",
      "100%|██████████| 20/20 [04:56<00:00, 31.27s/it]\n",
      "100%|██████████| 20/20 [05:59<00:00, 34.31s/it]\n",
      "100%|██████████| 20/20 [05:49<00:00, 35.08s/it]\n",
      "100%|██████████| 20/20 [08:36<00:00, 42.81s/it]\n",
      "100%|██████████| 20/20 [07:19<00:00, 40.68s/it]\n",
      "100%|██████████| 20/20 [07:59<00:00, 41.70s/it]\n"
     ]
    }
   ],
   "source": [
    "generations = 20  # Number of times to evole the population.\n",
    "population = 20  # Number of networks in each generation.\n",
    "\n",
    "\n",
    "nn_param_choices = {\n",
    "    'nb_neurons': [64, 128, 256, 512, 768, 1024],\n",
    "    'nb_layers': [1, 2, 3, 4, 6, 7],\n",
    "    'activation': ['linear','relu', 'elu', 'tanh', 'sigmoid'],\n",
    "    'optimizer': ['rmsprop', 'adam', 'adagrad',\n",
    "                  'adadelta', 'adamax', 'nadam'],\n",
    "'batch_size': [100, 200, 300, 500, 1000]\n",
    "}\n",
    "\n",
    "logging.info(\"***Evolving %d generations with population %d***\" %\n",
    "             (generations, population))\n",
    "\n",
    "best_network = ge.generate(generations, population, nn_param_choices, 1, Xs_train, Xs_val, Xs_test, y_train, y_val, y_test)\n"
   ]
  },
  {
   "cell_type": "code",
   "execution_count": null,
   "metadata": {
    "colab": {
     "base_uri": "https://localhost:8080/",
     "height": 102
    },
    "colab_type": "code",
    "executionInfo": {
     "elapsed": 522,
     "status": "ok",
     "timestamp": 1542365323404,
     "user": {
      "displayName": "Big Data Heroes",
      "photoUrl": "https://lh4.googleusercontent.com/-Oea-kCFGmOI/AAAAAAAAAAI/AAAAAAAAABA/2nzFsVh2IMA/s64/photo.jpg",
      "userId": "01285482604191505132"
     },
     "user_tz": -60
    },
    "id": "5ggKguwRjfNQ",
    "outputId": "9a7d1641-18d6-4327-d877-ea1ea1de736c"
   },
   "outputs": [
    {
     "data": {
      "text/plain": [
       "{'activation': 'relu',\n",
       " 'batch_size': 100,\n",
       " 'nb_layers': 7,\n",
       " 'nb_neurons': 768,\n",
       " 'optimizer': 'adamax'}"
      ]
     },
     "execution_count": 13,
     "metadata": {
      "tags": []
     },
     "output_type": "execute_result"
    }
   ],
   "source": [
    "\n",
    "best_network.network\n"
   ]
  },
  {
   "cell_type": "code",
   "execution_count": null,
   "metadata": {
    "colab": {
     "base_uri": "https://localhost:8080/",
     "height": 34
    },
    "colab_type": "code",
    "executionInfo": {
     "elapsed": 3121,
     "status": "ok",
     "timestamp": 1542023471987,
     "user": {
      "displayName": "Big Data Heroes",
      "photoUrl": "https://lh4.googleusercontent.com/-Oea-kCFGmOI/AAAAAAAAAAI/AAAAAAAAABA/2nzFsVh2IMA/s64/photo.jpg",
      "userId": "01285482604191505132"
     },
     "user_tz": -60
    },
    "id": "Ba9vPon1QoUP",
    "outputId": "04d2d042-80d3-4a73-8ae5-e049f5f31873"
   },
   "outputs": [
    {
     "name": "stdout",
     "output_type": "stream",
     "text": [
      "drive  log.txt\tsample_data\n"
     ]
    }
   ],
   "source": [
    "!ls \n"
   ]
  },
  {
   "cell_type": "code",
   "execution_count": null,
   "metadata": {
    "colab": {},
    "colab_type": "code",
    "id": "7Kwd4v3kV9J3"
   },
   "outputs": [],
   "source": [
    "from google.colab import files\n",
    "\n",
    "\n",
    "files.download('log.txt')"
   ]
  },
  {
   "cell_type": "markdown",
   "metadata": {
    "colab_type": "text",
    "id": "VCdg6uEd2KpU"
   },
   "source": [
    "## Afinar red con callbacks"
   ]
  },
  {
   "cell_type": "markdown",
   "metadata": {
    "colab_type": "text",
    "id": "jquLYPAZ2hE6"
   },
   "source": [
    "### Base"
   ]
  },
  {
   "cell_type": "code",
   "execution_count": null,
   "metadata": {
    "colab": {},
    "colab_type": "code",
    "id": "cUx-kMKWV_aQ"
   },
   "outputs": [],
   "source": [
    "nb_layers = best_network.network['nb_layers']\n",
    "nb_neurons = best_network.network['nb_neurons']\n",
    "activation = best_network.network['activation']\n",
    "optimizer = best_network.network['optimizer']\n",
    "\n",
    "\n",
    "model = Sequential()\n",
    "\n",
    "# Add each layer.\n",
    "for i in range(nb_layers):\n",
    "\n",
    "    # Need input shape for first layer.\n",
    "    if i == 0:\n",
    "        model.add(Dense(nb_neurons, activation=activation, input_dim=211))\n",
    "    else:\n",
    "        model.add(Dense(nb_neurons, activation=activation))\n",
    "\n",
    "    \n",
    "\n",
    "# Output layer.\n",
    "model.add(Dense(1))\n",
    "\n",
    "model.compile(loss='mean_squared_error', optimizer=optimizer,\n",
    "              metrics=['mse'])"
   ]
  },
  {
   "cell_type": "code",
   "execution_count": null,
   "metadata": {
    "colab": {
     "base_uri": "https://localhost:8080/",
     "height": 5151
    },
    "colab_type": "code",
    "executionInfo": {
     "elapsed": 294037,
     "status": "ok",
     "timestamp": 1542366090137,
     "user": {
      "displayName": "Big Data Heroes",
      "photoUrl": "https://lh4.googleusercontent.com/-Oea-kCFGmOI/AAAAAAAAAAI/AAAAAAAAABA/2nzFsVh2IMA/s64/photo.jpg",
      "userId": "01285482604191505132"
     },
     "user_tz": -60
    },
    "id": "3NT0p5dAKFPy",
    "outputId": "7dda1169-be26-4870-9c4a-40c168a0b808"
   },
   "outputs": [
    {
     "name": "stdout",
     "output_type": "stream",
     "text": [
      "Train on 10104 samples, validate on 2527 samples\n",
      "Epoch 1/150\n",
      " - 28s - loss: 3491.1083 - mean_squared_error: 3491.1083 - val_loss: 2448.1652 - val_mean_squared_error: 2448.1652\n",
      "Epoch 2/150\n",
      " - 2s - loss: 1776.7720 - mean_squared_error: 1776.7720 - val_loss: 1717.4067 - val_mean_squared_error: 1717.4067\n",
      "Epoch 3/150\n",
      " - 2s - loss: 1489.2175 - mean_squared_error: 1489.2175 - val_loss: 1626.3553 - val_mean_squared_error: 1626.3553\n",
      "Epoch 4/150\n",
      " - 2s - loss: 1268.0068 - mean_squared_error: 1268.0068 - val_loss: 1611.8498 - val_mean_squared_error: 1611.8498\n",
      "Epoch 5/150\n",
      " - 2s - loss: 1078.7451 - mean_squared_error: 1078.7451 - val_loss: 1557.7091 - val_mean_squared_error: 1557.7091\n",
      "Epoch 6/150\n",
      " - 2s - loss: 877.7691 - mean_squared_error: 877.7691 - val_loss: 1583.9665 - val_mean_squared_error: 1583.9665\n",
      "Epoch 7/150\n",
      " - 2s - loss: 734.7812 - mean_squared_error: 734.7812 - val_loss: 1531.5840 - val_mean_squared_error: 1531.5840\n",
      "Epoch 8/150\n",
      " - 2s - loss: 523.1343 - mean_squared_error: 523.1343 - val_loss: 1738.8391 - val_mean_squared_error: 1738.8391\n",
      "Epoch 9/150\n",
      " - 2s - loss: 448.1166 - mean_squared_error: 448.1166 - val_loss: 1687.0673 - val_mean_squared_error: 1687.0673\n",
      "Epoch 10/150\n",
      " - 2s - loss: 381.2939 - mean_squared_error: 381.2939 - val_loss: 1626.4357 - val_mean_squared_error: 1626.4357\n",
      "Epoch 11/150\n",
      " - 2s - loss: 304.3990 - mean_squared_error: 304.3990 - val_loss: 1716.7650 - val_mean_squared_error: 1716.7650\n",
      "Epoch 12/150\n",
      " - 2s - loss: 258.3610 - mean_squared_error: 258.3610 - val_loss: 1598.2243 - val_mean_squared_error: 1598.2243\n",
      "Epoch 13/150\n",
      " - 2s - loss: 211.7274 - mean_squared_error: 211.7274 - val_loss: 1608.6460 - val_mean_squared_error: 1608.6460\n",
      "Epoch 14/150\n",
      " - 2s - loss: 192.5108 - mean_squared_error: 192.5108 - val_loss: 1541.6254 - val_mean_squared_error: 1541.6254\n",
      "Epoch 15/150\n",
      " - 2s - loss: 166.9530 - mean_squared_error: 166.9530 - val_loss: 1628.0246 - val_mean_squared_error: 1628.0246\n",
      "Epoch 16/150\n",
      " - 2s - loss: 182.5746 - mean_squared_error: 182.5746 - val_loss: 1579.8853 - val_mean_squared_error: 1579.8853\n",
      "Epoch 17/150\n",
      " - 2s - loss: 183.0881 - mean_squared_error: 183.0881 - val_loss: 1622.6765 - val_mean_squared_error: 1622.6765\n",
      "Epoch 18/150\n",
      " - 2s - loss: 158.9105 - mean_squared_error: 158.9105 - val_loss: 1580.4659 - val_mean_squared_error: 1580.4659\n",
      "Epoch 19/150\n",
      " - 2s - loss: 133.4538 - mean_squared_error: 133.4538 - val_loss: 1582.0760 - val_mean_squared_error: 1582.0760\n",
      "Epoch 20/150\n",
      " - 2s - loss: 147.9291 - mean_squared_error: 147.9291 - val_loss: 1557.9614 - val_mean_squared_error: 1557.9614\n",
      "Epoch 21/150\n",
      " - 2s - loss: 160.2383 - mean_squared_error: 160.2383 - val_loss: 1646.1719 - val_mean_squared_error: 1646.1719\n",
      "Epoch 22/150\n",
      " - 2s - loss: 158.3254 - mean_squared_error: 158.3254 - val_loss: 1576.8785 - val_mean_squared_error: 1576.8785\n",
      "Epoch 23/150\n",
      " - 2s - loss: 192.4979 - mean_squared_error: 192.4979 - val_loss: 1526.6513 - val_mean_squared_error: 1526.6513\n",
      "Epoch 24/150\n",
      " - 2s - loss: 110.2641 - mean_squared_error: 110.2641 - val_loss: 1581.1041 - val_mean_squared_error: 1581.1041\n",
      "Epoch 25/150\n",
      " - 2s - loss: 82.7973 - mean_squared_error: 82.7973 - val_loss: 1544.0431 - val_mean_squared_error: 1544.0431\n",
      "Epoch 26/150\n",
      " - 2s - loss: 104.5523 - mean_squared_error: 104.5523 - val_loss: 1592.1224 - val_mean_squared_error: 1592.1224\n",
      "Epoch 27/150\n",
      " - 2s - loss: 88.9234 - mean_squared_error: 88.9234 - val_loss: 1550.4745 - val_mean_squared_error: 1550.4745\n",
      "Epoch 28/150\n",
      " - 2s - loss: 95.0221 - mean_squared_error: 95.0221 - val_loss: 1541.9159 - val_mean_squared_error: 1541.9159\n",
      "Epoch 29/150\n",
      " - 2s - loss: 92.3516 - mean_squared_error: 92.3516 - val_loss: 1608.5947 - val_mean_squared_error: 1608.5947\n",
      "Epoch 30/150\n",
      " - 2s - loss: 85.9580 - mean_squared_error: 85.9580 - val_loss: 1575.0756 - val_mean_squared_error: 1575.0756\n",
      "Epoch 31/150\n",
      " - 2s - loss: 99.4456 - mean_squared_error: 99.4456 - val_loss: 1527.1679 - val_mean_squared_error: 1527.1679\n",
      "Epoch 32/150\n",
      " - 2s - loss: 122.1040 - mean_squared_error: 122.1040 - val_loss: 1602.4208 - val_mean_squared_error: 1602.4208\n",
      "Epoch 33/150\n",
      " - 2s - loss: 104.5200 - mean_squared_error: 104.5200 - val_loss: 1632.0561 - val_mean_squared_error: 1632.0561\n",
      "Epoch 34/150\n",
      " - 2s - loss: 168.3990 - mean_squared_error: 168.3990 - val_loss: 1538.1212 - val_mean_squared_error: 1538.1212\n",
      "Epoch 35/150\n",
      " - 2s - loss: 79.3780 - mean_squared_error: 79.3780 - val_loss: 1543.8438 - val_mean_squared_error: 1543.8438\n",
      "Epoch 36/150\n",
      " - 2s - loss: 70.3672 - mean_squared_error: 70.3672 - val_loss: 1539.8649 - val_mean_squared_error: 1539.8649\n",
      "Epoch 37/150\n",
      " - 2s - loss: 57.7448 - mean_squared_error: 57.7448 - val_loss: 1530.5422 - val_mean_squared_error: 1530.5422\n",
      "Epoch 38/150\n",
      " - 2s - loss: 51.7754 - mean_squared_error: 51.7754 - val_loss: 1536.5056 - val_mean_squared_error: 1536.5056\n",
      "Epoch 39/150\n",
      " - 2s - loss: 50.4609 - mean_squared_error: 50.4609 - val_loss: 1525.9046 - val_mean_squared_error: 1525.9046\n",
      "Epoch 40/150\n",
      " - 2s - loss: 50.6611 - mean_squared_error: 50.6611 - val_loss: 1580.1908 - val_mean_squared_error: 1580.1908\n",
      "Epoch 41/150\n",
      " - 2s - loss: 63.5099 - mean_squared_error: 63.5099 - val_loss: 1529.4884 - val_mean_squared_error: 1529.4884\n",
      "Epoch 42/150\n",
      " - 2s - loss: 66.6374 - mean_squared_error: 66.6374 - val_loss: 1528.1575 - val_mean_squared_error: 1528.1575\n",
      "Epoch 43/150\n",
      " - 2s - loss: 72.7764 - mean_squared_error: 72.7764 - val_loss: 1507.5178 - val_mean_squared_error: 1507.5178\n",
      "Epoch 44/150\n",
      " - 2s - loss: 79.0539 - mean_squared_error: 79.0539 - val_loss: 1607.9588 - val_mean_squared_error: 1607.9588\n",
      "Epoch 45/150\n",
      " - 2s - loss: 113.1536 - mean_squared_error: 113.1536 - val_loss: 1514.6456 - val_mean_squared_error: 1514.6456\n",
      "Epoch 46/150\n",
      " - 2s - loss: 62.6808 - mean_squared_error: 62.6808 - val_loss: 1522.9775 - val_mean_squared_error: 1522.9775\n",
      "Epoch 47/150\n",
      " - 2s - loss: 47.0757 - mean_squared_error: 47.0757 - val_loss: 1479.8386 - val_mean_squared_error: 1479.8386\n",
      "Epoch 48/150\n",
      " - 2s - loss: 42.9343 - mean_squared_error: 42.9343 - val_loss: 1487.4887 - val_mean_squared_error: 1487.4887\n",
      "Epoch 49/150\n",
      " - 2s - loss: 41.6742 - mean_squared_error: 41.6742 - val_loss: 1571.3468 - val_mean_squared_error: 1571.3468\n",
      "Epoch 50/150\n",
      " - 2s - loss: 48.9099 - mean_squared_error: 48.9099 - val_loss: 1525.5546 - val_mean_squared_error: 1525.5546\n",
      "Epoch 51/150\n",
      " - 2s - loss: 57.2679 - mean_squared_error: 57.2679 - val_loss: 1529.5193 - val_mean_squared_error: 1529.5193\n",
      "Epoch 52/150\n",
      " - 2s - loss: 52.5109 - mean_squared_error: 52.5109 - val_loss: 1503.0432 - val_mean_squared_error: 1503.0432\n",
      "Epoch 53/150\n",
      " - 2s - loss: 56.0213 - mean_squared_error: 56.0213 - val_loss: 1532.8411 - val_mean_squared_error: 1532.8411\n",
      "Epoch 54/150\n",
      " - 2s - loss: 64.3347 - mean_squared_error: 64.3347 - val_loss: 1527.3064 - val_mean_squared_error: 1527.3064\n",
      "Epoch 55/150\n",
      " - 2s - loss: 62.3791 - mean_squared_error: 62.3791 - val_loss: 1544.8427 - val_mean_squared_error: 1544.8427\n",
      "Epoch 56/150\n",
      " - 2s - loss: 55.8255 - mean_squared_error: 55.8255 - val_loss: 1499.2026 - val_mean_squared_error: 1499.2026\n",
      "Epoch 57/150\n",
      " - 2s - loss: 51.9380 - mean_squared_error: 51.9380 - val_loss: 1479.3025 - val_mean_squared_error: 1479.3025\n",
      "Epoch 58/150\n",
      " - 2s - loss: 58.8675 - mean_squared_error: 58.8675 - val_loss: 1611.9649 - val_mean_squared_error: 1611.9649\n",
      "Epoch 59/150\n",
      " - 2s - loss: 97.0911 - mean_squared_error: 97.0911 - val_loss: 1503.4002 - val_mean_squared_error: 1503.4002\n",
      "Epoch 60/150\n",
      " - 2s - loss: 66.3273 - mean_squared_error: 66.3273 - val_loss: 1514.3891 - val_mean_squared_error: 1514.3891\n",
      "Epoch 61/150\n",
      " - 2s - loss: 45.6427 - mean_squared_error: 45.6427 - val_loss: 1506.7974 - val_mean_squared_error: 1506.7974\n",
      "Epoch 62/150\n",
      " - 2s - loss: 40.0105 - mean_squared_error: 40.0105 - val_loss: 1463.7916 - val_mean_squared_error: 1463.7916\n",
      "Epoch 63/150\n",
      " - 2s - loss: 51.4239 - mean_squared_error: 51.4239 - val_loss: 1476.7953 - val_mean_squared_error: 1476.7953\n",
      "Epoch 64/150\n",
      " - 2s - loss: 59.7533 - mean_squared_error: 59.7533 - val_loss: 1521.4833 - val_mean_squared_error: 1521.4833\n",
      "Epoch 65/150\n",
      " - 2s - loss: 64.1521 - mean_squared_error: 64.1521 - val_loss: 1525.7769 - val_mean_squared_error: 1525.7769\n",
      "Epoch 66/150\n",
      " - 2s - loss: 43.6244 - mean_squared_error: 43.6244 - val_loss: 1492.3229 - val_mean_squared_error: 1492.3229\n",
      "Epoch 67/150\n",
      " - 2s - loss: 42.8053 - mean_squared_error: 42.8053 - val_loss: 1485.0732 - val_mean_squared_error: 1485.0732\n",
      "Epoch 68/150\n",
      " - 2s - loss: 58.1898 - mean_squared_error: 58.1898 - val_loss: 1487.0741 - val_mean_squared_error: 1487.0741\n",
      "Epoch 69/150\n",
      " - 2s - loss: 32.8084 - mean_squared_error: 32.8084 - val_loss: 1465.4251 - val_mean_squared_error: 1465.4251\n",
      "Epoch 70/150\n",
      " - 2s - loss: 24.1610 - mean_squared_error: 24.1610 - val_loss: 1477.3379 - val_mean_squared_error: 1477.3379\n",
      "Epoch 71/150\n",
      " - 2s - loss: 24.5157 - mean_squared_error: 24.5157 - val_loss: 1494.6369 - val_mean_squared_error: 1494.6369\n",
      "Epoch 72/150\n",
      " - 2s - loss: 27.3196 - mean_squared_error: 27.3196 - val_loss: 1523.5645 - val_mean_squared_error: 1523.5645\n",
      "Epoch 73/150\n",
      " - 2s - loss: 37.3276 - mean_squared_error: 37.3276 - val_loss: 1508.3787 - val_mean_squared_error: 1508.3787\n",
      "Epoch 74/150\n",
      " - 2s - loss: 55.2157 - mean_squared_error: 55.2157 - val_loss: 1480.6494 - val_mean_squared_error: 1480.6494\n",
      "Epoch 75/150\n",
      " - 2s - loss: 40.0211 - mean_squared_error: 40.0211 - val_loss: 1530.3851 - val_mean_squared_error: 1530.3851\n",
      "Epoch 76/150\n",
      " - 2s - loss: 41.3943 - mean_squared_error: 41.3943 - val_loss: 1510.0765 - val_mean_squared_error: 1510.0765\n",
      "Epoch 77/150\n",
      " - 2s - loss: 47.0276 - mean_squared_error: 47.0276 - val_loss: 1487.6529 - val_mean_squared_error: 1487.6529\n",
      "Epoch 78/150\n",
      " - 2s - loss: 34.4970 - mean_squared_error: 34.4970 - val_loss: 1484.6216 - val_mean_squared_error: 1484.6216\n",
      "Epoch 79/150\n",
      " - 2s - loss: 34.5734 - mean_squared_error: 34.5734 - val_loss: 1528.0741 - val_mean_squared_error: 1528.0741\n",
      "Epoch 80/150\n",
      " - 2s - loss: 51.0968 - mean_squared_error: 51.0968 - val_loss: 1519.2477 - val_mean_squared_error: 1519.2477\n",
      "Epoch 81/150\n",
      " - 2s - loss: 56.3520 - mean_squared_error: 56.3520 - val_loss: 1509.6464 - val_mean_squared_error: 1509.6464\n",
      "Epoch 82/150\n",
      " - 2s - loss: 49.9212 - mean_squared_error: 49.9212 - val_loss: 1488.4707 - val_mean_squared_error: 1488.4707\n",
      "Epoch 83/150\n",
      " - 2s - loss: 40.3713 - mean_squared_error: 40.3713 - val_loss: 1461.6688 - val_mean_squared_error: 1461.6688\n",
      "Epoch 84/150\n",
      " - 2s - loss: 34.2567 - mean_squared_error: 34.2567 - val_loss: 1504.8298 - val_mean_squared_error: 1504.8298\n",
      "Epoch 85/150\n",
      " - 2s - loss: 47.0710 - mean_squared_error: 47.0710 - val_loss: 1524.8800 - val_mean_squared_error: 1524.8800\n",
      "Epoch 86/150\n",
      " - 2s - loss: 54.8155 - mean_squared_error: 54.8155 - val_loss: 1549.9640 - val_mean_squared_error: 1549.9640\n",
      "Epoch 87/150\n",
      " - 2s - loss: 64.0562 - mean_squared_error: 64.0562 - val_loss: 1504.6009 - val_mean_squared_error: 1504.6009\n",
      "Epoch 88/150\n",
      " - 2s - loss: 48.7583 - mean_squared_error: 48.7583 - val_loss: 1556.0329 - val_mean_squared_error: 1556.0329\n",
      "Epoch 89/150\n",
      " - 2s - loss: 39.8043 - mean_squared_error: 39.8043 - val_loss: 1476.8782 - val_mean_squared_error: 1476.8782\n",
      "Epoch 90/150\n",
      " - 2s - loss: 53.1489 - mean_squared_error: 53.1489 - val_loss: 1481.5287 - val_mean_squared_error: 1481.5287\n",
      "Epoch 91/150\n",
      " - 2s - loss: 45.4790 - mean_squared_error: 45.4790 - val_loss: 1464.9587 - val_mean_squared_error: 1464.9587\n",
      "Epoch 92/150\n",
      " - 2s - loss: 39.5252 - mean_squared_error: 39.5252 - val_loss: 1458.4205 - val_mean_squared_error: 1458.4205\n",
      "Epoch 93/150\n",
      " - 2s - loss: 32.4925 - mean_squared_error: 32.4925 - val_loss: 1592.5509 - val_mean_squared_error: 1592.5509\n",
      "Epoch 94/150\n",
      " - 2s - loss: 48.0307 - mean_squared_error: 48.0307 - val_loss: 1490.4173 - val_mean_squared_error: 1490.4173\n",
      "Epoch 95/150\n",
      " - 2s - loss: 56.5051 - mean_squared_error: 56.5051 - val_loss: 1513.2708 - val_mean_squared_error: 1513.2708\n",
      "Epoch 96/150\n",
      " - 2s - loss: 39.8155 - mean_squared_error: 39.8155 - val_loss: 1466.3434 - val_mean_squared_error: 1466.3434\n",
      "Epoch 97/150\n",
      " - 2s - loss: 31.6418 - mean_squared_error: 31.6418 - val_loss: 1473.2718 - val_mean_squared_error: 1473.2718\n",
      "Epoch 98/150\n",
      " - 2s - loss: 32.7521 - mean_squared_error: 32.7521 - val_loss: 1469.6625 - val_mean_squared_error: 1469.6625\n",
      "Epoch 99/150\n",
      " - 2s - loss: 28.3425 - mean_squared_error: 28.3425 - val_loss: 1479.0158 - val_mean_squared_error: 1479.0158\n",
      "Epoch 100/150\n",
      " - 2s - loss: 25.5540 - mean_squared_error: 25.5540 - val_loss: 1465.2035 - val_mean_squared_error: 1465.2035\n",
      "Epoch 101/150\n",
      " - 2s - loss: 28.4650 - mean_squared_error: 28.4650 - val_loss: 1467.7723 - val_mean_squared_error: 1467.7723\n",
      "Epoch 102/150\n",
      " - 2s - loss: 40.6968 - mean_squared_error: 40.6968 - val_loss: 1523.7811 - val_mean_squared_error: 1523.7811\n",
      "Epoch 103/150\n",
      " - 2s - loss: 60.2101 - mean_squared_error: 60.2101 - val_loss: 1505.7828 - val_mean_squared_error: 1505.7828\n",
      "Epoch 104/150\n",
      " - 2s - loss: 37.8260 - mean_squared_error: 37.8260 - val_loss: 1481.0433 - val_mean_squared_error: 1481.0433\n",
      "Epoch 105/150\n",
      " - 2s - loss: 38.8323 - mean_squared_error: 38.8323 - val_loss: 1484.5093 - val_mean_squared_error: 1484.5093\n",
      "Epoch 106/150\n",
      " - 2s - loss: 36.0308 - mean_squared_error: 36.0308 - val_loss: 1472.0705 - val_mean_squared_error: 1472.0705\n",
      "Epoch 107/150\n",
      " - 2s - loss: 35.0107 - mean_squared_error: 35.0107 - val_loss: 1477.4434 - val_mean_squared_error: 1477.4434\n",
      "Epoch 108/150\n",
      " - 2s - loss: 34.0494 - mean_squared_error: 34.0494 - val_loss: 1481.3785 - val_mean_squared_error: 1481.3785\n",
      "Epoch 109/150\n",
      " - 2s - loss: 30.3912 - mean_squared_error: 30.3912 - val_loss: 1542.9607 - val_mean_squared_error: 1542.9607\n",
      "Epoch 110/150\n",
      " - 2s - loss: 37.5028 - mean_squared_error: 37.5028 - val_loss: 1478.3627 - val_mean_squared_error: 1478.3627\n",
      "Epoch 111/150\n",
      " - 2s - loss: 44.2835 - mean_squared_error: 44.2835 - val_loss: 1485.2094 - val_mean_squared_error: 1485.2094\n",
      "Epoch 112/150\n",
      " - 2s - loss: 36.2281 - mean_squared_error: 36.2281 - val_loss: 1489.6330 - val_mean_squared_error: 1489.6330\n",
      "Epoch 113/150\n",
      " - 2s - loss: 40.6066 - mean_squared_error: 40.6066 - val_loss: 1505.6012 - val_mean_squared_error: 1505.6012\n",
      "Epoch 114/150\n",
      " - 2s - loss: 43.6101 - mean_squared_error: 43.6101 - val_loss: 1501.2723 - val_mean_squared_error: 1501.2723\n",
      "Epoch 115/150\n",
      " - 2s - loss: 35.2639 - mean_squared_error: 35.2639 - val_loss: 1448.9132 - val_mean_squared_error: 1448.9132\n",
      "Epoch 116/150\n",
      " - 2s - loss: 26.4768 - mean_squared_error: 26.4768 - val_loss: 1465.2057 - val_mean_squared_error: 1465.2057\n",
      "Epoch 117/150\n",
      " - 2s - loss: 29.1290 - mean_squared_error: 29.1290 - val_loss: 1450.9143 - val_mean_squared_error: 1450.9143\n",
      "Epoch 118/150\n",
      " - 2s - loss: 34.1986 - mean_squared_error: 34.1986 - val_loss: 1455.2504 - val_mean_squared_error: 1455.2504\n",
      "Epoch 119/150\n",
      " - 2s - loss: 22.5688 - mean_squared_error: 22.5688 - val_loss: 1458.9507 - val_mean_squared_error: 1458.9507\n",
      "Epoch 120/150\n",
      " - 2s - loss: 21.1499 - mean_squared_error: 21.1499 - val_loss: 1442.8046 - val_mean_squared_error: 1442.8046\n",
      "Epoch 121/150\n",
      " - 2s - loss: 16.4978 - mean_squared_error: 16.4978 - val_loss: 1446.0098 - val_mean_squared_error: 1446.0098\n",
      "Epoch 122/150\n",
      " - 2s - loss: 22.0067 - mean_squared_error: 22.0067 - val_loss: 1472.6730 - val_mean_squared_error: 1472.6730\n",
      "Epoch 123/150\n",
      " - 2s - loss: 24.4944 - mean_squared_error: 24.4944 - val_loss: 1473.7985 - val_mean_squared_error: 1473.7985\n",
      "Epoch 124/150\n",
      " - 2s - loss: 31.0730 - mean_squared_error: 31.0730 - val_loss: 1453.4692 - val_mean_squared_error: 1453.4692\n",
      "Epoch 125/150\n",
      " - 2s - loss: 26.5635 - mean_squared_error: 26.5635 - val_loss: 1433.0512 - val_mean_squared_error: 1433.0512\n",
      "Epoch 126/150\n",
      " - 2s - loss: 26.9348 - mean_squared_error: 26.9348 - val_loss: 1451.4108 - val_mean_squared_error: 1451.4108\n",
      "Epoch 127/150\n",
      " - 2s - loss: 29.6388 - mean_squared_error: 29.6388 - val_loss: 1477.3419 - val_mean_squared_error: 1477.3419\n",
      "Epoch 128/150\n",
      " - 2s - loss: 24.4002 - mean_squared_error: 24.4002 - val_loss: 1478.5176 - val_mean_squared_error: 1478.5176\n",
      "Epoch 129/150\n",
      " - 2s - loss: 31.8208 - mean_squared_error: 31.8208 - val_loss: 1455.5371 - val_mean_squared_error: 1455.5371\n",
      "Epoch 130/150\n",
      " - 2s - loss: 16.1891 - mean_squared_error: 16.1891 - val_loss: 1452.3775 - val_mean_squared_error: 1452.3775\n",
      "Epoch 131/150\n",
      " - 2s - loss: 15.0401 - mean_squared_error: 15.0401 - val_loss: 1456.2168 - val_mean_squared_error: 1456.2168\n",
      "Epoch 132/150\n",
      " - 2s - loss: 18.0054 - mean_squared_error: 18.0054 - val_loss: 1460.3474 - val_mean_squared_error: 1460.3474\n",
      "Epoch 133/150\n",
      " - 2s - loss: 17.1379 - mean_squared_error: 17.1379 - val_loss: 1456.1304 - val_mean_squared_error: 1456.1304\n",
      "Epoch 134/150\n",
      " - 2s - loss: 15.1576 - mean_squared_error: 15.1576 - val_loss: 1437.0899 - val_mean_squared_error: 1437.0899\n",
      "Epoch 135/150\n",
      " - 2s - loss: 20.3427 - mean_squared_error: 20.3427 - val_loss: 1457.5890 - val_mean_squared_error: 1457.5890\n",
      "Epoch 136/150\n",
      " - 2s - loss: 24.1230 - mean_squared_error: 24.1230 - val_loss: 1474.5750 - val_mean_squared_error: 1474.5750\n",
      "Epoch 137/150\n",
      " - 2s - loss: 26.9616 - mean_squared_error: 26.9616 - val_loss: 1456.8491 - val_mean_squared_error: 1456.8491\n",
      "Epoch 138/150\n",
      " - 2s - loss: 32.0370 - mean_squared_error: 32.0370 - val_loss: 1443.3735 - val_mean_squared_error: 1443.3735\n",
      "Epoch 139/150\n",
      " - 2s - loss: 33.7783 - mean_squared_error: 33.7783 - val_loss: 1466.7919 - val_mean_squared_error: 1466.7919\n",
      "Epoch 140/150\n",
      " - 2s - loss: 31.8442 - mean_squared_error: 31.8442 - val_loss: 1453.1206 - val_mean_squared_error: 1453.1206\n",
      "Epoch 141/150\n",
      " - 2s - loss: 36.2009 - mean_squared_error: 36.2009 - val_loss: 1445.2165 - val_mean_squared_error: 1445.2165\n",
      "Epoch 142/150\n",
      " - 2s - loss: 22.8387 - mean_squared_error: 22.8387 - val_loss: 1455.1923 - val_mean_squared_error: 1455.1923\n",
      "Epoch 143/150\n",
      " - 2s - loss: 17.0348 - mean_squared_error: 17.0348 - val_loss: 1470.8038 - val_mean_squared_error: 1470.8038\n",
      "Epoch 144/150\n",
      " - 2s - loss: 14.2699 - mean_squared_error: 14.2699 - val_loss: 1442.5286 - val_mean_squared_error: 1442.5286\n",
      "Epoch 145/150\n",
      " - 2s - loss: 12.6520 - mean_squared_error: 12.6520 - val_loss: 1458.1236 - val_mean_squared_error: 1458.1236\n",
      "Epoch 146/150\n",
      " - 2s - loss: 17.3561 - mean_squared_error: 17.3561 - val_loss: 1453.1545 - val_mean_squared_error: 1453.1545\n",
      "Epoch 147/150\n",
      " - 2s - loss: 26.1637 - mean_squared_error: 26.1637 - val_loss: 1475.7900 - val_mean_squared_error: 1475.7900\n",
      "Epoch 148/150\n",
      " - 2s - loss: 25.6360 - mean_squared_error: 25.6360 - val_loss: 1474.4555 - val_mean_squared_error: 1474.4555\n",
      "Epoch 149/150\n",
      " - 2s - loss: 21.2024 - mean_squared_error: 21.2024 - val_loss: 1459.2598 - val_mean_squared_error: 1459.2598\n",
      "Epoch 150/150\n",
      " - 2s - loss: 18.6611 - mean_squared_error: 18.6611 - val_loss: 1444.5414 - val_mean_squared_error: 1444.5414\n"
     ]
    },
    {
     "data": {
      "text/plain": [
       "[1315.0827249696786, 1315.0827249696786]"
      ]
     },
     "execution_count": 19,
     "metadata": {
      "tags": []
     },
     "output_type": "execute_result"
    }
   ],
   "source": [
    "model.fit(Xs_train, y_train,\n",
    "              batch_size=best_network.network['batch_size'],\n",
    "              epochs=150,\n",
    "              verbose=2,\n",
    "              validation_data=(Xs_val, y_val))\n",
    "\n",
    "score = model.evaluate(Xs_test, y_test, verbose=2)\n",
    "score"
   ]
  },
  {
   "cell_type": "markdown",
   "metadata": {
    "colab_type": "text",
    "id": "o1L341Ru2lA7"
   },
   "source": [
    "### Ajuste Learning Rate"
   ]
  },
  {
   "cell_type": "code",
   "execution_count": null,
   "metadata": {
    "colab": {},
    "colab_type": "code",
    "id": "nouc4xm9LiqJ"
   },
   "outputs": [],
   "source": [
    "from keras.optimizers import Adamax\n",
    "\n",
    "nb_layers = best_network.network['nb_layers']\n",
    "nb_neurons = best_network.network['nb_neurons']\n",
    "activation = best_network.network['activation']\n",
    "optimizer = best_network.network['optimizer']\n",
    "\n",
    "model = Sequential()\n",
    "\n",
    "# Add each layer.\n",
    "for i in range(nb_layers):\n",
    "\n",
    "    # Need input shape for first layer.\n",
    "    if i == 0:\n",
    "        model.add(Dense(nb_neurons, activation=activation, input_dim=211))\n",
    "    else:\n",
    "        model.add(Dense(nb_neurons, activation=activation))\n",
    "\n",
    "    \n",
    "\n",
    "# Output layer.\n",
    "model.add(Dense(1))\n",
    "model.compile(loss='mean_squared_error', optimizer=optimizer,\n",
    "              metrics=['mse'])"
   ]
  },
  {
   "cell_type": "code",
   "execution_count": null,
   "metadata": {
    "colab": {
     "base_uri": "https://localhost:8080/",
     "height": 5151
    },
    "colab_type": "code",
    "executionInfo": {
     "elapsed": 313880,
     "status": "ok",
     "timestamp": 1542368046070,
     "user": {
      "displayName": "Big Data Heroes",
      "photoUrl": "https://lh4.googleusercontent.com/-Oea-kCFGmOI/AAAAAAAAAAI/AAAAAAAAABA/2nzFsVh2IMA/s64/photo.jpg",
      "userId": "01285482604191505132"
     },
     "user_tz": -60
    },
    "id": "l3reVWLIL708",
    "outputId": "53a40df5-c9b9-4926-afbd-f21c959b077c"
   },
   "outputs": [
    {
     "name": "stdout",
     "output_type": "stream",
     "text": [
      "Train on 10104 samples, validate on 2527 samples\n",
      "Epoch 1/150\n",
      " - 30s - loss: 2532.8965 - mean_squared_error: 2532.8965 - val_loss: 1840.2206 - val_mean_squared_error: 1840.2206\n",
      "Epoch 2/150\n",
      " - 2s - loss: 1656.9576 - mean_squared_error: 1656.9576 - val_loss: 1736.8250 - val_mean_squared_error: 1736.8250\n",
      "Epoch 3/150\n",
      " - 2s - loss: 1388.4757 - mean_squared_error: 1388.4757 - val_loss: 1600.3117 - val_mean_squared_error: 1600.3117\n",
      "Epoch 4/150\n",
      " - 2s - loss: 1182.2606 - mean_squared_error: 1182.2606 - val_loss: 1567.2190 - val_mean_squared_error: 1567.2190\n",
      "Epoch 5/150\n",
      " - 2s - loss: 952.4171 - mean_squared_error: 952.4171 - val_loss: 1595.7205 - val_mean_squared_error: 1595.7205\n",
      "Epoch 6/150\n",
      " - 2s - loss: 741.3650 - mean_squared_error: 741.3650 - val_loss: 1749.4547 - val_mean_squared_error: 1749.4547\n",
      "Epoch 7/150\n",
      " - 2s - loss: 524.9158 - mean_squared_error: 524.9158 - val_loss: 1495.8945 - val_mean_squared_error: 1495.8945\n",
      "Epoch 8/150\n",
      " - 2s - loss: 400.0002 - mean_squared_error: 400.0002 - val_loss: 1538.0754 - val_mean_squared_error: 1538.0754\n",
      "Epoch 9/150\n",
      " - 2s - loss: 342.1614 - mean_squared_error: 342.1614 - val_loss: 1505.7657 - val_mean_squared_error: 1505.7657\n",
      "Epoch 10/150\n",
      " - 2s - loss: 288.4614 - mean_squared_error: 288.4614 - val_loss: 1510.6956 - val_mean_squared_error: 1510.6956\n",
      "Epoch 11/150\n",
      " - 2s - loss: 229.2208 - mean_squared_error: 229.2208 - val_loss: 1506.5870 - val_mean_squared_error: 1506.5870\n",
      "Epoch 12/150\n",
      " - 2s - loss: 208.2862 - mean_squared_error: 208.2862 - val_loss: 1515.3097 - val_mean_squared_error: 1515.3097\n",
      "Epoch 13/150\n",
      " - 2s - loss: 194.9340 - mean_squared_error: 194.9340 - val_loss: 1521.8990 - val_mean_squared_error: 1521.8990\n",
      "Epoch 14/150\n",
      " - 2s - loss: 183.5484 - mean_squared_error: 183.5484 - val_loss: 1517.5441 - val_mean_squared_error: 1517.5441\n",
      "Epoch 15/150\n",
      " - 2s - loss: 165.2978 - mean_squared_error: 165.2978 - val_loss: 1519.7308 - val_mean_squared_error: 1519.7308\n",
      "Epoch 16/150\n",
      " - 2s - loss: 160.3667 - mean_squared_error: 160.3667 - val_loss: 1520.3099 - val_mean_squared_error: 1520.3099\n",
      "Epoch 17/150\n",
      " - 2s - loss: 156.6253 - mean_squared_error: 156.6253 - val_loss: 1519.7090 - val_mean_squared_error: 1519.7090\n",
      "Epoch 18/150\n",
      " - 2s - loss: 153.0340 - mean_squared_error: 153.0340 - val_loss: 1521.9737 - val_mean_squared_error: 1521.9737\n",
      "Epoch 19/150\n",
      " - 2s - loss: 148.2945 - mean_squared_error: 148.2945 - val_loss: 1520.8235 - val_mean_squared_error: 1520.8235\n",
      "Epoch 20/150\n",
      " - 2s - loss: 146.9500 - mean_squared_error: 146.9500 - val_loss: 1520.1605 - val_mean_squared_error: 1520.1605\n",
      "Epoch 21/150\n",
      " - 2s - loss: 145.8474 - mean_squared_error: 145.8474 - val_loss: 1521.5802 - val_mean_squared_error: 1521.5802\n",
      "Epoch 22/150\n",
      " - 2s - loss: 144.6771 - mean_squared_error: 144.6771 - val_loss: 1521.6524 - val_mean_squared_error: 1521.6524\n",
      "Epoch 23/150\n",
      " - 2s - loss: 143.1488 - mean_squared_error: 143.1488 - val_loss: 1521.6547 - val_mean_squared_error: 1521.6547\n",
      "Epoch 24/150\n",
      " - 2s - loss: 142.3756 - mean_squared_error: 142.3756 - val_loss: 1522.9754 - val_mean_squared_error: 1522.9754\n",
      "Epoch 25/150\n",
      " - 2s - loss: 141.5644 - mean_squared_error: 141.5644 - val_loss: 1523.1853 - val_mean_squared_error: 1523.1853\n",
      "Epoch 26/150\n",
      " - 2s - loss: 140.7840 - mean_squared_error: 140.7840 - val_loss: 1521.9687 - val_mean_squared_error: 1521.9687\n",
      "Epoch 27/150\n",
      " - 2s - loss: 139.9894 - mean_squared_error: 139.9894 - val_loss: 1523.0860 - val_mean_squared_error: 1523.0860\n",
      "Epoch 28/150\n",
      " - 2s - loss: 138.9941 - mean_squared_error: 138.9941 - val_loss: 1522.2188 - val_mean_squared_error: 1522.2188\n",
      "Epoch 29/150\n",
      " - 2s - loss: 138.2682 - mean_squared_error: 138.2682 - val_loss: 1521.9000 - val_mean_squared_error: 1521.9000\n",
      "Epoch 30/150\n",
      " - 2s - loss: 137.5279 - mean_squared_error: 137.5279 - val_loss: 1523.1222 - val_mean_squared_error: 1523.1222\n",
      "Epoch 31/150\n",
      " - 2s - loss: 136.4769 - mean_squared_error: 136.4769 - val_loss: 1523.3865 - val_mean_squared_error: 1523.3865\n",
      "Epoch 32/150\n",
      " - 2s - loss: 135.6381 - mean_squared_error: 135.6381 - val_loss: 1522.4680 - val_mean_squared_error: 1522.4680\n",
      "Epoch 33/150\n",
      " - 2s - loss: 134.8193 - mean_squared_error: 134.8193 - val_loss: 1524.4923 - val_mean_squared_error: 1524.4923\n",
      "Epoch 34/150\n",
      " - 2s - loss: 133.8088 - mean_squared_error: 133.8088 - val_loss: 1524.6540 - val_mean_squared_error: 1524.6540\n",
      "Epoch 35/150\n",
      " - 2s - loss: 132.9065 - mean_squared_error: 132.9065 - val_loss: 1523.8402 - val_mean_squared_error: 1523.8402\n",
      "Epoch 36/150\n",
      " - 2s - loss: 132.0611 - mean_squared_error: 132.0611 - val_loss: 1524.7170 - val_mean_squared_error: 1524.7170\n",
      "Epoch 37/150\n",
      " - 2s - loss: 131.2260 - mean_squared_error: 131.2260 - val_loss: 1524.6994 - val_mean_squared_error: 1524.6994\n",
      "Epoch 38/150\n",
      " - 2s - loss: 130.3590 - mean_squared_error: 130.3590 - val_loss: 1523.7616 - val_mean_squared_error: 1523.7616\n",
      "Epoch 39/150\n",
      " - 2s - loss: 129.6060 - mean_squared_error: 129.6060 - val_loss: 1525.9788 - val_mean_squared_error: 1525.9788\n",
      "Epoch 40/150\n",
      " - 2s - loss: 128.8780 - mean_squared_error: 128.8780 - val_loss: 1524.9812 - val_mean_squared_error: 1524.9812\n",
      "Epoch 41/150\n",
      " - 2s - loss: 127.9651 - mean_squared_error: 127.9651 - val_loss: 1525.9261 - val_mean_squared_error: 1525.9261\n",
      "Epoch 42/150\n",
      " - 2s - loss: 127.1372 - mean_squared_error: 127.1372 - val_loss: 1524.5698 - val_mean_squared_error: 1524.5698\n",
      "Epoch 43/150\n",
      " - 2s - loss: 126.4532 - mean_squared_error: 126.4532 - val_loss: 1527.0129 - val_mean_squared_error: 1527.0129\n",
      "Epoch 44/150\n",
      " - 2s - loss: 125.5966 - mean_squared_error: 125.5966 - val_loss: 1525.4009 - val_mean_squared_error: 1525.4009\n",
      "Epoch 45/150\n",
      " - 2s - loss: 124.6607 - mean_squared_error: 124.6607 - val_loss: 1526.9297 - val_mean_squared_error: 1526.9297\n",
      "Epoch 46/150\n",
      " - 2s - loss: 123.9058 - mean_squared_error: 123.9058 - val_loss: 1528.0860 - val_mean_squared_error: 1528.0860\n",
      "Epoch 47/150\n",
      " - 2s - loss: 122.8780 - mean_squared_error: 122.8780 - val_loss: 1528.2504 - val_mean_squared_error: 1528.2504\n",
      "Epoch 48/150\n",
      " - 2s - loss: 121.9514 - mean_squared_error: 121.9514 - val_loss: 1526.9348 - val_mean_squared_error: 1526.9348\n",
      "Epoch 49/150\n",
      " - 2s - loss: 121.1215 - mean_squared_error: 121.1215 - val_loss: 1526.8006 - val_mean_squared_error: 1526.8006\n",
      "Epoch 50/150\n",
      " - 2s - loss: 120.3745 - mean_squared_error: 120.3745 - val_loss: 1528.9744 - val_mean_squared_error: 1528.9744\n",
      "Epoch 51/150\n",
      " - 2s - loss: 119.4981 - mean_squared_error: 119.4981 - val_loss: 1527.7071 - val_mean_squared_error: 1527.7071\n",
      "Epoch 52/150\n",
      " - 2s - loss: 118.6378 - mean_squared_error: 118.6378 - val_loss: 1528.6263 - val_mean_squared_error: 1528.6263\n",
      "Epoch 53/150\n",
      " - 2s - loss: 117.7717 - mean_squared_error: 117.7717 - val_loss: 1526.9032 - val_mean_squared_error: 1526.9032\n",
      "Epoch 54/150\n",
      " - 2s - loss: 117.0368 - mean_squared_error: 117.0368 - val_loss: 1527.7933 - val_mean_squared_error: 1527.7933\n",
      "Epoch 55/150\n",
      " - 2s - loss: 116.3179 - mean_squared_error: 116.3179 - val_loss: 1526.7786 - val_mean_squared_error: 1526.7786\n",
      "Epoch 56/150\n",
      " - 2s - loss: 115.5567 - mean_squared_error: 115.5567 - val_loss: 1527.3754 - val_mean_squared_error: 1527.3754\n",
      "Epoch 57/150\n",
      " - 2s - loss: 114.9203 - mean_squared_error: 114.9203 - val_loss: 1527.8339 - val_mean_squared_error: 1527.8339\n",
      "Epoch 58/150\n",
      " - 2s - loss: 113.9970 - mean_squared_error: 113.9970 - val_loss: 1528.8433 - val_mean_squared_error: 1528.8433\n",
      "Epoch 59/150\n",
      " - 2s - loss: 113.2068 - mean_squared_error: 113.2068 - val_loss: 1528.6237 - val_mean_squared_error: 1528.6237\n",
      "Epoch 60/150\n",
      " - 2s - loss: 112.3247 - mean_squared_error: 112.3247 - val_loss: 1528.5023 - val_mean_squared_error: 1528.5023\n",
      "Epoch 61/150\n",
      " - 2s - loss: 111.5780 - mean_squared_error: 111.5780 - val_loss: 1530.1583 - val_mean_squared_error: 1530.1583\n",
      "Epoch 62/150\n",
      " - 2s - loss: 110.6433 - mean_squared_error: 110.6433 - val_loss: 1529.9408 - val_mean_squared_error: 1529.9408\n",
      "Epoch 63/150\n",
      " - 2s - loss: 109.8514 - mean_squared_error: 109.8514 - val_loss: 1528.4499 - val_mean_squared_error: 1528.4499\n",
      "Epoch 64/150\n",
      " - 2s - loss: 109.0282 - mean_squared_error: 109.0282 - val_loss: 1530.1155 - val_mean_squared_error: 1530.1155\n",
      "Epoch 65/150\n",
      " - 2s - loss: 108.3731 - mean_squared_error: 108.3731 - val_loss: 1530.2981 - val_mean_squared_error: 1530.2981\n",
      "Epoch 66/150\n",
      " - 2s - loss: 107.7317 - mean_squared_error: 107.7317 - val_loss: 1530.2245 - val_mean_squared_error: 1530.2245\n",
      "Epoch 67/150\n",
      " - 2s - loss: 107.1376 - mean_squared_error: 107.1376 - val_loss: 1529.4519 - val_mean_squared_error: 1529.4519\n",
      "Epoch 68/150\n",
      " - 2s - loss: 106.6137 - mean_squared_error: 106.6137 - val_loss: 1530.8387 - val_mean_squared_error: 1530.8387\n",
      "Epoch 69/150\n",
      " - 2s - loss: 105.8362 - mean_squared_error: 105.8362 - val_loss: 1529.1938 - val_mean_squared_error: 1529.1938\n",
      "Epoch 70/150\n",
      " - 2s - loss: 105.2165 - mean_squared_error: 105.2165 - val_loss: 1529.2921 - val_mean_squared_error: 1529.2921\n",
      "Epoch 71/150\n",
      " - 2s - loss: 104.5001 - mean_squared_error: 104.5001 - val_loss: 1530.4766 - val_mean_squared_error: 1530.4766\n",
      "Epoch 72/150\n",
      " - 2s - loss: 103.8106 - mean_squared_error: 103.8106 - val_loss: 1528.9240 - val_mean_squared_error: 1528.9240\n",
      "Epoch 73/150\n",
      " - 2s - loss: 103.2113 - mean_squared_error: 103.2113 - val_loss: 1529.5377 - val_mean_squared_error: 1529.5377\n",
      "Epoch 74/150\n",
      " - 2s - loss: 102.5969 - mean_squared_error: 102.5969 - val_loss: 1530.6871 - val_mean_squared_error: 1530.6871\n",
      "Epoch 75/150\n",
      " - 2s - loss: 101.9287 - mean_squared_error: 101.9287 - val_loss: 1529.9048 - val_mean_squared_error: 1529.9048\n",
      "Epoch 76/150\n",
      " - 2s - loss: 101.1951 - mean_squared_error: 101.1951 - val_loss: 1529.8048 - val_mean_squared_error: 1529.8048\n",
      "Epoch 77/150\n",
      " - 2s - loss: 100.4394 - mean_squared_error: 100.4394 - val_loss: 1532.2143 - val_mean_squared_error: 1532.2143\n",
      "Epoch 78/150\n",
      " - 2s - loss: 99.9385 - mean_squared_error: 99.9385 - val_loss: 1530.7387 - val_mean_squared_error: 1530.7387\n",
      "Epoch 79/150\n",
      " - 2s - loss: 99.3028 - mean_squared_error: 99.3028 - val_loss: 1529.6156 - val_mean_squared_error: 1529.6156\n",
      "Epoch 80/150\n",
      " - 2s - loss: 98.6939 - mean_squared_error: 98.6939 - val_loss: 1531.1782 - val_mean_squared_error: 1531.1782\n",
      "Epoch 81/150\n",
      " - 2s - loss: 98.2033 - mean_squared_error: 98.2033 - val_loss: 1529.2497 - val_mean_squared_error: 1529.2497\n",
      "Epoch 82/150\n",
      " - 2s - loss: 97.7904 - mean_squared_error: 97.7904 - val_loss: 1530.7282 - val_mean_squared_error: 1530.7282\n",
      "Epoch 83/150\n",
      " - 2s - loss: 97.2723 - mean_squared_error: 97.2723 - val_loss: 1531.0748 - val_mean_squared_error: 1531.0748\n",
      "Epoch 84/150\n",
      " - 2s - loss: 96.7076 - mean_squared_error: 96.7076 - val_loss: 1529.7946 - val_mean_squared_error: 1529.7946\n",
      "Epoch 85/150\n",
      " - 2s - loss: 96.2094 - mean_squared_error: 96.2094 - val_loss: 1530.4309 - val_mean_squared_error: 1530.4309\n",
      "Epoch 86/150\n",
      " - 2s - loss: 95.6831 - mean_squared_error: 95.6831 - val_loss: 1530.8164 - val_mean_squared_error: 1530.8164\n",
      "Epoch 87/150\n",
      " - 2s - loss: 95.1329 - mean_squared_error: 95.1329 - val_loss: 1532.2553 - val_mean_squared_error: 1532.2553\n",
      "Epoch 88/150\n",
      " - 2s - loss: 94.5830 - mean_squared_error: 94.5830 - val_loss: 1532.5962 - val_mean_squared_error: 1532.5962\n",
      "Epoch 89/150\n",
      " - 2s - loss: 93.9719 - mean_squared_error: 93.9719 - val_loss: 1532.6299 - val_mean_squared_error: 1532.6299\n",
      "Epoch 90/150\n",
      " - 2s - loss: 93.4479 - mean_squared_error: 93.4479 - val_loss: 1532.1396 - val_mean_squared_error: 1532.1396\n",
      "Epoch 91/150\n",
      " - 2s - loss: 92.7395 - mean_squared_error: 92.7395 - val_loss: 1532.4793 - val_mean_squared_error: 1532.4793\n",
      "Epoch 92/150\n",
      " - 2s - loss: 92.1237 - mean_squared_error: 92.1237 - val_loss: 1535.2995 - val_mean_squared_error: 1535.2995\n",
      "Epoch 93/150\n",
      " - 2s - loss: 91.6003 - mean_squared_error: 91.6003 - val_loss: 1532.2478 - val_mean_squared_error: 1532.2478\n",
      "Epoch 94/150\n",
      " - 2s - loss: 90.8580 - mean_squared_error: 90.8580 - val_loss: 1532.7061 - val_mean_squared_error: 1532.7061\n",
      "Epoch 95/150\n",
      " - 2s - loss: 90.1718 - mean_squared_error: 90.1718 - val_loss: 1532.3431 - val_mean_squared_error: 1532.3431\n",
      "Epoch 96/150\n",
      " - 2s - loss: 89.3496 - mean_squared_error: 89.3496 - val_loss: 1535.6490 - val_mean_squared_error: 1535.6490\n",
      "Epoch 97/150\n",
      " - 2s - loss: 88.7851 - mean_squared_error: 88.7851 - val_loss: 1534.0392 - val_mean_squared_error: 1534.0392\n",
      "Epoch 98/150\n",
      " - 2s - loss: 88.2489 - mean_squared_error: 88.2489 - val_loss: 1534.4069 - val_mean_squared_error: 1534.4069\n",
      "Epoch 99/150\n",
      " - 2s - loss: 87.3723 - mean_squared_error: 87.3723 - val_loss: 1536.4880 - val_mean_squared_error: 1536.4880\n",
      "Epoch 100/150\n",
      " - 2s - loss: 86.8104 - mean_squared_error: 86.8104 - val_loss: 1535.3519 - val_mean_squared_error: 1535.3519\n",
      "Epoch 101/150\n",
      " - 2s - loss: 86.1078 - mean_squared_error: 86.1078 - val_loss: 1539.3663 - val_mean_squared_error: 1539.3663\n",
      "Epoch 102/150\n",
      " - 2s - loss: 85.3297 - mean_squared_error: 85.3297 - val_loss: 1535.5351 - val_mean_squared_error: 1535.5351\n",
      "Epoch 103/150\n",
      " - 2s - loss: 84.5746 - mean_squared_error: 84.5746 - val_loss: 1537.0341 - val_mean_squared_error: 1537.0341\n",
      "Epoch 104/150\n",
      " - 2s - loss: 83.9329 - mean_squared_error: 83.9329 - val_loss: 1535.9515 - val_mean_squared_error: 1535.9515\n",
      "Epoch 105/150\n",
      " - 2s - loss: 83.0709 - mean_squared_error: 83.0709 - val_loss: 1535.0834 - val_mean_squared_error: 1535.0834\n",
      "Epoch 106/150\n",
      " - 2s - loss: 82.3458 - mean_squared_error: 82.3458 - val_loss: 1535.2772 - val_mean_squared_error: 1535.2772\n",
      "Epoch 107/150\n",
      " - 2s - loss: 81.8516 - mean_squared_error: 81.8516 - val_loss: 1535.3301 - val_mean_squared_error: 1535.3301\n",
      "Epoch 108/150\n",
      " - 2s - loss: 81.2649 - mean_squared_error: 81.2649 - val_loss: 1537.0244 - val_mean_squared_error: 1537.0244\n",
      "Epoch 109/150\n",
      " - 2s - loss: 80.8048 - mean_squared_error: 80.8048 - val_loss: 1536.1690 - val_mean_squared_error: 1536.1690\n",
      "Epoch 110/150\n",
      " - 2s - loss: 80.2759 - mean_squared_error: 80.2759 - val_loss: 1535.4944 - val_mean_squared_error: 1535.4944\n",
      "Epoch 111/150\n",
      " - 2s - loss: 79.7064 - mean_squared_error: 79.7064 - val_loss: 1534.4886 - val_mean_squared_error: 1534.4886\n",
      "Epoch 112/150\n",
      " - 2s - loss: 79.3097 - mean_squared_error: 79.3097 - val_loss: 1535.8036 - val_mean_squared_error: 1535.8036\n",
      "Epoch 113/150\n",
      " - 2s - loss: 78.7847 - mean_squared_error: 78.7847 - val_loss: 1536.3755 - val_mean_squared_error: 1536.3755\n",
      "Epoch 114/150\n",
      " - 2s - loss: 78.1513 - mean_squared_error: 78.1513 - val_loss: 1536.2179 - val_mean_squared_error: 1536.2179\n",
      "Epoch 115/150\n",
      " - 2s - loss: 77.6716 - mean_squared_error: 77.6716 - val_loss: 1537.5177 - val_mean_squared_error: 1537.5177\n",
      "Epoch 116/150\n",
      " - 2s - loss: 77.0785 - mean_squared_error: 77.0785 - val_loss: 1537.1396 - val_mean_squared_error: 1537.1396\n",
      "Epoch 117/150\n",
      " - 2s - loss: 76.4363 - mean_squared_error: 76.4363 - val_loss: 1538.5610 - val_mean_squared_error: 1538.5610\n",
      "Epoch 118/150\n",
      " - 2s - loss: 75.9619 - mean_squared_error: 75.9619 - val_loss: 1536.7225 - val_mean_squared_error: 1536.7225\n",
      "Epoch 119/150\n",
      " - 2s - loss: 75.5922 - mean_squared_error: 75.5922 - val_loss: 1536.2354 - val_mean_squared_error: 1536.2354\n",
      "Epoch 120/150\n",
      " - 2s - loss: 75.1438 - mean_squared_error: 75.1438 - val_loss: 1535.7090 - val_mean_squared_error: 1535.7090\n",
      "Epoch 121/150\n",
      " - 2s - loss: 74.5841 - mean_squared_error: 74.5841 - val_loss: 1537.7392 - val_mean_squared_error: 1537.7392\n",
      "Epoch 122/150\n",
      " - 2s - loss: 74.1264 - mean_squared_error: 74.1264 - val_loss: 1536.3216 - val_mean_squared_error: 1536.3216\n",
      "Epoch 123/150\n",
      " - 2s - loss: 73.5540 - mean_squared_error: 73.5540 - val_loss: 1538.3928 - val_mean_squared_error: 1538.3928\n",
      "Epoch 124/150\n",
      " - 2s - loss: 73.0751 - mean_squared_error: 73.0751 - val_loss: 1538.4771 - val_mean_squared_error: 1538.4771\n",
      "Epoch 125/150\n",
      " - 2s - loss: 72.7073 - mean_squared_error: 72.7073 - val_loss: 1537.8741 - val_mean_squared_error: 1537.8741\n",
      "Epoch 126/150\n",
      " - 2s - loss: 72.2498 - mean_squared_error: 72.2498 - val_loss: 1537.4648 - val_mean_squared_error: 1537.4648\n",
      "Epoch 127/150\n",
      " - 2s - loss: 71.8256 - mean_squared_error: 71.8256 - val_loss: 1537.9080 - val_mean_squared_error: 1537.9080\n",
      "Epoch 128/150\n",
      " - 2s - loss: 71.4262 - mean_squared_error: 71.4262 - val_loss: 1537.3492 - val_mean_squared_error: 1537.3492\n",
      "Epoch 129/150\n",
      " - 2s - loss: 70.9792 - mean_squared_error: 70.9792 - val_loss: 1537.2329 - val_mean_squared_error: 1537.2329\n",
      "Epoch 130/150\n",
      " - 2s - loss: 70.5809 - mean_squared_error: 70.5809 - val_loss: 1537.6090 - val_mean_squared_error: 1537.6090\n",
      "Epoch 131/150\n",
      " - 2s - loss: 70.0980 - mean_squared_error: 70.0980 - val_loss: 1539.4358 - val_mean_squared_error: 1539.4358\n",
      "Epoch 132/150\n",
      " - 2s - loss: 69.6903 - mean_squared_error: 69.6903 - val_loss: 1538.9603 - val_mean_squared_error: 1538.9603\n",
      "Epoch 133/150\n",
      " - 2s - loss: 69.2953 - mean_squared_error: 69.2953 - val_loss: 1537.2561 - val_mean_squared_error: 1537.2561\n",
      "Epoch 134/150\n",
      " - 2s - loss: 68.8256 - mean_squared_error: 68.8256 - val_loss: 1539.7509 - val_mean_squared_error: 1539.7509\n",
      "Epoch 135/150\n",
      " - 2s - loss: 68.4236 - mean_squared_error: 68.4236 - val_loss: 1537.4973 - val_mean_squared_error: 1537.4973\n",
      "Epoch 136/150\n",
      " - 2s - loss: 68.0165 - mean_squared_error: 68.0165 - val_loss: 1538.2147 - val_mean_squared_error: 1538.2147\n",
      "Epoch 137/150\n",
      " - 2s - loss: 67.5273 - mean_squared_error: 67.5273 - val_loss: 1538.6299 - val_mean_squared_error: 1538.6299\n",
      "Epoch 138/150\n",
      " - 2s - loss: 67.0859 - mean_squared_error: 67.0859 - val_loss: 1538.2891 - val_mean_squared_error: 1538.2891\n",
      "Epoch 139/150\n",
      " - 2s - loss: 66.5684 - mean_squared_error: 66.5684 - val_loss: 1540.0786 - val_mean_squared_error: 1540.0786\n",
      "Epoch 140/150\n",
      " - 2s - loss: 66.0622 - mean_squared_error: 66.0622 - val_loss: 1539.3296 - val_mean_squared_error: 1539.3296\n",
      "Epoch 141/150\n",
      " - 2s - loss: 65.5282 - mean_squared_error: 65.5282 - val_loss: 1539.7027 - val_mean_squared_error: 1539.7027\n",
      "Epoch 142/150\n",
      " - 2s - loss: 65.0143 - mean_squared_error: 65.0143 - val_loss: 1540.3108 - val_mean_squared_error: 1540.3108\n",
      "Epoch 143/150\n",
      " - 2s - loss: 64.5582 - mean_squared_error: 64.5582 - val_loss: 1538.3875 - val_mean_squared_error: 1538.3875\n",
      "Epoch 144/150\n",
      " - 2s - loss: 64.0969 - mean_squared_error: 64.0969 - val_loss: 1539.9543 - val_mean_squared_error: 1539.9543\n",
      "Epoch 145/150\n",
      " - 2s - loss: 63.4969 - mean_squared_error: 63.4969 - val_loss: 1542.1494 - val_mean_squared_error: 1542.1494\n",
      "Epoch 146/150\n",
      " - 2s - loss: 63.0156 - mean_squared_error: 63.0156 - val_loss: 1540.4648 - val_mean_squared_error: 1540.4648\n",
      "Epoch 147/150\n",
      " - 2s - loss: 62.4622 - mean_squared_error: 62.4622 - val_loss: 1541.0059 - val_mean_squared_error: 1541.0059\n",
      "Epoch 148/150\n",
      " - 2s - loss: 62.0428 - mean_squared_error: 62.0428 - val_loss: 1541.8324 - val_mean_squared_error: 1541.8324\n",
      "Epoch 149/150\n",
      " - 2s - loss: 61.5526 - mean_squared_error: 61.5526 - val_loss: 1541.4488 - val_mean_squared_error: 1541.4488\n",
      "Epoch 150/150\n",
      " - 2s - loss: 61.0400 - mean_squared_error: 61.0400 - val_loss: 1540.5169 - val_mean_squared_error: 1540.5169\n"
     ]
    },
    {
     "data": {
      "text/plain": [
       "[1369.0175877772974, 1369.0175877772974]"
      ]
     },
     "execution_count": 35,
     "metadata": {
      "tags": []
     },
     "output_type": "execute_result"
    }
   ],
   "source": [
    "reduce_lr = ReduceLROnPlateau(monitor='val_loss', factor=0.3,\n",
    "                              patience=2, min_lr=0.00001, cooldown=3)\n",
    "\n",
    "model.fit(Xs_train, y_train,\n",
    "              batch_size=best_network.network['batch_size'],\n",
    "              epochs=150,\n",
    "              verbose=2,\n",
    "              validation_data=(Xs_val, y_val), callbacks=[reduce_lr])\n",
    "\n",
    "score = model.evaluate(Xs_test, y_test, verbose=2)\n",
    "score"
   ]
  },
  {
   "cell_type": "markdown",
   "metadata": {
    "colab_type": "text",
    "id": "mBkGDANg204j"
   },
   "source": [
    "## Conclusión\n",
    "Como se ve la red neuronal con los siguientes parámetros es la que mejor resultado nos da:\n",
    "\n",
    "{'activation': 'relu',\n",
    "\n",
    " 'batch_size': 100,\n",
    " \n",
    " 'nb_layers': 7,\n",
    " \n",
    " 'nb_neurons': 768,\n",
    " \n",
    " 'optimizer': 'adamax'}\n",
    " \n",
    " Nos da un valor de *MSE* de **1315.08**\n",
    " \n"
   ]
  }
 ],
 "metadata": {
  "accelerator": "GPU",
  "colab": {
   "name": "Airbnb_DL.ipynb",
   "provenance": [],
   "toc_visible": true,
   "version": "0.3.2"
  },
  "kernelspec": {
   "display_name": "Python 3",
   "language": "python",
   "name": "python3"
  },
  "language_info": {
   "codemirror_mode": {
    "name": "ipython",
    "version": 3
   },
   "file_extension": ".py",
   "mimetype": "text/x-python",
   "name": "python",
   "nbconvert_exporter": "python",
   "pygments_lexer": "ipython3",
   "version": "3.7.0"
  }
 },
 "nbformat": 4,
 "nbformat_minor": 2
}
